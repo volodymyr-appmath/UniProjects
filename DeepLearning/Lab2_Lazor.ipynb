{
 "cells": [
  {
   "cell_type": "code",
   "execution_count": 1,
   "id": "0fad41f0-5c61-42a5-b463-2cf3c857c7e6",
   "metadata": {
    "id": "0fad41f0-5c61-42a5-b463-2cf3c857c7e6"
   },
   "outputs": [],
   "source": [
    "import math\n",
    "import numpy as np"
   ]
  },
  {
   "cell_type": "code",
   "execution_count": 2,
   "id": "ff0d3987-9712-471b-a13a-6e5d41d54693",
   "metadata": {
    "id": "ff0d3987-9712-471b-a13a-6e5d41d54693"
   },
   "outputs": [],
   "source": [
    "class Value:\n",
    "    \"\"\"\n",
    "    Class of scalar values, which implements the following functionality:\n",
    "    - composition of multiple Value class objects;\n",
    "    - operations on Value class objects;\n",
    "    - backpropagation algorithm for \"chain rule\";\n",
    "    \"\"\"\n",
    "    def __init__(self, value, label='', children=()):\n",
    "        self._value = value\n",
    "        self._label = label\n",
    "        self._grad = 0\n",
    "        self._children = set(children) # Set of children of the expression\n",
    "        self._backward = lambda: None  # Unique backpropagation function for each operation\n",
    "        self._forward = lambda: None   # Unique forward propagation function for each operation\n",
    "\n",
    "    def __repr__(self):\n",
    "        children = [child._label for child in self._children]\n",
    "        return f'Value( {self._label} = {self._value}; df/d[{self._label}] = {self._grad}; children = {children} )'\n",
    "    \n",
    "    \n",
    "    # -------------------------------- Addition operators --------------------------------\n",
    "    def __add__(self, other):\n",
    "        if (not isinstance(other, Value)) and (isinstance(other, int) or isinstance(other, float)):\n",
    "            other = Value(other, label=other)\n",
    "        result = Value(\n",
    "            self._value + other._value,\n",
    "            f'({self._label} + {other._label})',\n",
    "            children=(self, other)\n",
    "        )\n",
    "\n",
    "        def _backward():\n",
    "            self._grad += result._grad\n",
    "            other._grad += result._grad\n",
    "            # print(self)\n",
    "            # print(other)\n",
    "\n",
    "        def _forward():\n",
    "            result._value = self._value + other._value\n",
    "            # print(self)\n",
    "            # print(other)\n",
    "\n",
    "        result._backward = _backward\n",
    "        result._forward = _forward\n",
    "        return result\n",
    "\n",
    "    def __radd__(self, other: int):\n",
    "        return self + other\n",
    "\n",
    "\n",
    "    # -------------------------------- Multiplication operators --------------------------\n",
    "    def __mul__(self, other):\n",
    "        if (not isinstance(other, Value)) and (isinstance(other, int) or isinstance(other, float)):\n",
    "            other = Value(other, label=other)\n",
    "        result = Value(\n",
    "            self._value * other._value,\n",
    "            f'{self._label} * {other._label}',\n",
    "            children=(self, other)\n",
    "        )\n",
    "\n",
    "        def _backward():\n",
    "            self._grad += other._value * result._grad\n",
    "            other._grad += self._value * result._grad\n",
    "            # print(self)\n",
    "            # print(other)\n",
    "\n",
    "        def _forward():\n",
    "            result._value = self._value * other._value\n",
    "            # print(self)\n",
    "            # print(other)\n",
    "\n",
    "        result._backward = _backward\n",
    "        result._forward = _forward\n",
    "        return result\n",
    "\n",
    "    def __rmul__(self, other: int):\n",
    "        return self * other\n",
    "\n",
    "\n",
    "    # -------------------------------- Exponential operator ------------------------------\n",
    "    # def __pow__(self, other: int):\n",
    "    #     \"\"\"\n",
    "    #     Implemets operation x**k, where k is an integer\n",
    "    #     \"\"\"\n",
    "    #     children_ = self._children.copy()\n",
    "    #     children_.add(self)\n",
    "\n",
    "    #     result = Value(\n",
    "    #         self._value ** other,\n",
    "    #         f'{self._label}**{other}',\n",
    "    #         children=children_\n",
    "    #     )\n",
    "\n",
    "    #     def _backward():\n",
    "    #         self._grad += (other * self**(other-1) * result._grad)._value\n",
    "    #         # print(self)\n",
    "    #         # print(other)\n",
    "\n",
    "    #     def _forward():\n",
    "    #         result._value = self._value ** other\n",
    "    #         # print(self)\n",
    "    #         # print(other)\n",
    "\n",
    "    #     result._backward = _backward\n",
    "    #     result._forward = _forward\n",
    "    #     return result\n",
    "\n",
    "    def __pow__(self, other):\n",
    "        if (not isinstance(other, Value)) and (isinstance(other, int) or isinstance(other, float)):\n",
    "            other = Value(other, label=other)\n",
    "    \n",
    "        result = Value(\n",
    "            self._value ** other._value,\n",
    "            f'{self._label}**{other._label}',\n",
    "            children=(self, other)\n",
    "        )\n",
    "\n",
    "        def _backward():\n",
    "            try:\n",
    "                int(self._label)\n",
    "            except ValueError:\n",
    "                self._grad += other._value * self._value**(other._value-1) * result._grad\n",
    "            try:\n",
    "                int(other._label)\n",
    "            except ValueError:\n",
    "                other._grad += result._value * math.log(self._value) * result._grad\n",
    "            # print(self)\n",
    "            # print(other)\n",
    "\n",
    "        def _forward():\n",
    "            result._value = self._value ** other._value\n",
    "            # print(self)\n",
    "            # print(other)\n",
    "\n",
    "        result._backward = _backward\n",
    "        result._forward = _forward\n",
    "        return result\n",
    "\n",
    "    def __rpow__(self, other: float):\n",
    "        if (not isinstance(other, Value)) and (isinstance(other, int) or isinstance(other, float)):\n",
    "            other = Value(other, label=other)\n",
    "        return other**self\n",
    "\n",
    "\n",
    "    # -------------------------------- Unary operators -----------------------------------\n",
    "    def __pos__(self):\n",
    "        return self\n",
    "\n",
    "    def __neg__(self):\n",
    "        result = self * (-1)\n",
    "        result._label = f'{result._label}'\n",
    "        return result\n",
    "\n",
    "\n",
    "    # -------------------------------- Subtraction operators -----------------------------\n",
    "    def __sub__(self, other):\n",
    "        return self + (-other)\n",
    "\n",
    "    def __rsub__(self, other: int):\n",
    "        return (-self) + other\n",
    "\n",
    "\n",
    "    # -------------------------------- Division operators --------------------------------\n",
    "    def __truediv__(self, other):\n",
    "        result = self * other**(-1)\n",
    "        result._label = f'{self._label} / {other._label}'\n",
    "        return result\n",
    "\n",
    "    def __rtruediv__(self, other: int):\n",
    "        result = self**(-1) * other\n",
    "        result._label = f'{other._label} / {self._label}'\n",
    "        return result\n",
    "\n",
    "\n",
    "    # -------------------------------- Basic functions -----------------------------------\n",
    "    def exp(self):\n",
    "        result = Value(\n",
    "            math.exp(self._value),\n",
    "            f'exp({self._label})',\n",
    "            children=(self,)\n",
    "        )\n",
    "\n",
    "        def _backward():\n",
    "            self._grad += result._value * result._grad\n",
    "            # print(self)\n",
    "\n",
    "        def _forward():\n",
    "            result._value = math.exp(self._value)\n",
    "\n",
    "        result._backward = _backward\n",
    "        return result\n",
    "\n",
    "\n",
    "    def ln(self):\n",
    "        result = Value(\n",
    "            math.log(self._value),\n",
    "            f'log({self._label})',\n",
    "            children=(self,)\n",
    "        )\n",
    "\n",
    "        def _backward():\n",
    "            self._grad += (1 / self._value) * result._grad\n",
    "            # print(self)\n",
    "\n",
    "        def _forward():\n",
    "            result._value = math.log(self._value)\n",
    "\n",
    "        result._backward = _backward\n",
    "        return result\n",
    "\n",
    "\n",
    "    # -------------------------------- Activation functions ------------------------------\n",
    "    def sigmoid(self):\n",
    "        sigmoid_ = 1 / (1 + math.exp(-self._value))\n",
    "        result = Value(\n",
    "            sigmoid_,\n",
    "            f'σ({self._label})',\n",
    "            children=(self,)\n",
    "        )\n",
    "\n",
    "        def _backward():\n",
    "            self._grad += sigmoid_ * (1 - sigmoid_) * result._grad\n",
    "            # print(self)\n",
    "        \n",
    "        def _forward():\n",
    "            result._value = 1 / (1 + math.exp(-self._value))\n",
    "\n",
    "        result._backward = _backward\n",
    "        return result\n",
    "\n",
    "    def softplus(self):\n",
    "        result = Value(\n",
    "            math.log(1 + math.exp(self._value)),\n",
    "            f'softplus({self._label})',\n",
    "            children=(self,)\n",
    "        )\n",
    "\n",
    "        def _backward():\n",
    "            self._grad += (self.sigmoid() * result._grad)._value\n",
    "            # print(self)\n",
    "\n",
    "        def _forward():\n",
    "            result._value = math.log(1 + math.exp(self._value))\n",
    "\n",
    "        result._backward = _backward\n",
    "        return result\n",
    "\n",
    "    def swish(self, beta=1):\n",
    "        swish_ = (self * (beta*self).sigmoid())._value\n",
    "        result = Value(\n",
    "            swish_,\n",
    "            f'swish({self._label})',\n",
    "            children=(self,)\n",
    "        )\n",
    "\n",
    "        def _backward():\n",
    "            self._grad += (beta*(beta*self).swish()._value + (beta*self).sigmoid()._value * (1-beta*(beta*self).swish()._value) * result._grad)\n",
    "            # print(self)\n",
    "\n",
    "        def _forward():\n",
    "            result._value = (self * (beta*self).sigmoid())._value\n",
    "\n",
    "        result._backward = _backward\n",
    "        return result\n",
    "\n",
    "\n",
    "    # -------------------------------- Back and forward propagation ----------------------\n",
    "    def backward(self):\n",
    "        \"\"\"\n",
    "        Auto backpropagation\n",
    "        \"\"\"\n",
    "        ordered_nodes = topological_sort(self)\n",
    "\n",
    "        # Resetting gradients\n",
    "        for node in ordered_nodes:\n",
    "            node._grad = 0\n",
    "        \n",
    "        self._grad = 1\n",
    "        for node in ordered_nodes:\n",
    "            node._backward()\n",
    "\n",
    "    def forward(self):\n",
    "        \"\"\"\n",
    "        Auto forward propagation\n",
    "        \"\"\"\n",
    "        ordered_nodes = topological_sort(self)[::-1]\n",
    "\n",
    "        for node in ordered_nodes:\n",
    "            node._forward()\n",
    "\n",
    "\n",
    "# ----------------------------------------------------------------------------------------\n",
    "#                              Sorting and optimization algorithms\n",
    "# ----------------------------------------------------------------------------------------\n",
    "\n",
    "def topological_sort(tree: Value):\n",
    "    \"\"\"\n",
    "    Topological sorting algorithm with DFS (depth-first search)\n",
    "    \"\"\"\n",
    "    visiting = [] # Nodes which were visited recently during first forward pass (to prevent cycling)\n",
    "    visited = []  # Nodes which were visited with all their children included (during backward pass)\n",
    "\n",
    "    def visit(node):\n",
    "        if not (node in visiting or node in visited):\n",
    "            visiting.append(node)\n",
    "            for child in node._children:\n",
    "                visit(child)\n",
    "            visited.append(node)\n",
    "            visiting.pop()\n",
    "        order = visited[::-1]\n",
    "        return order\n",
    "\n",
    "    return visit(tree)"
   ]
  },
  {
   "cell_type": "code",
   "execution_count": 3,
   "id": "00a4e46b-b569-4231-a005-144eb7a59371",
   "metadata": {},
   "outputs": [
    {
     "name": "stdout",
     "output_type": "stream",
     "text": [
      "Value( exp(x) = 403.4287934927351; df/d[exp(x)] = 0; children = ['x'] )\n"
     ]
    }
   ],
   "source": [
    "m = Value(3, 'm')\n",
    "n = Value(2, 'n')\n",
    "x = m*n; x._label='x'\n",
    "\n",
    "f = x.exp()\n",
    "print(f)"
   ]
  },
  {
   "cell_type": "code",
   "execution_count": 4,
   "id": "ff32b3ac-ef7a-4979-b94f-e26694e938a6",
   "metadata": {},
   "outputs": [],
   "source": [
    "f.backward()"
   ]
  },
  {
   "cell_type": "code",
   "execution_count": 5,
   "id": "93839b18-e1a0-437a-8d8d-4e89716fb48d",
   "metadata": {},
   "outputs": [
    {
     "data": {
      "text/plain": [
       "Value( exp(x) = 403.4287934927351; df/d[exp(x)] = 1; children = ['x'] )"
      ]
     },
     "execution_count": 5,
     "metadata": {},
     "output_type": "execute_result"
    }
   ],
   "source": [
    "f"
   ]
  },
  {
   "cell_type": "code",
   "execution_count": 6,
   "id": "c3e810bc-b58b-41d1-bcd1-117f7c3624fd",
   "metadata": {},
   "outputs": [
    {
     "data": {
      "text/plain": [
       "Value( x = 6; df/d[x] = 403.4287934927351; children = ['m', 'n'] )"
      ]
     },
     "execution_count": 6,
     "metadata": {},
     "output_type": "execute_result"
    }
   ],
   "source": [
    "x"
   ]
  },
  {
   "cell_type": "code",
   "execution_count": 7,
   "id": "268ffc35-6d24-4ea2-ae1e-a927a3f61ffa",
   "metadata": {},
   "outputs": [],
   "source": [
    "g = math.e ** x"
   ]
  },
  {
   "cell_type": "code",
   "execution_count": 8,
   "id": "dcdd2207-c7d8-4146-be30-c5d2e690d4dd",
   "metadata": {},
   "outputs": [
    {
     "data": {
      "text/plain": [
       "Value( 2.718281828459045**x = 403.428793492735; df/d[2.718281828459045**x] = 0; children = [2.718281828459045, 'x'] )"
      ]
     },
     "execution_count": 8,
     "metadata": {},
     "output_type": "execute_result"
    }
   ],
   "source": [
    "g"
   ]
  },
  {
   "cell_type": "code",
   "execution_count": 9,
   "id": "56d7b7cf-92b8-4fc8-98b1-95c29099dbf9",
   "metadata": {},
   "outputs": [],
   "source": [
    "g.backward()"
   ]
  },
  {
   "cell_type": "code",
   "execution_count": 10,
   "id": "35bb8b53-706a-410e-a485-35fe48e03d3b",
   "metadata": {},
   "outputs": [
    {
     "data": {
      "text/plain": [
       "Value( 2.718281828459045**x = 403.428793492735; df/d[2.718281828459045**x] = 1; children = [2.718281828459045, 'x'] )"
      ]
     },
     "execution_count": 10,
     "metadata": {},
     "output_type": "execute_result"
    }
   ],
   "source": [
    "g"
   ]
  },
  {
   "cell_type": "code",
   "execution_count": 11,
   "id": "ee681267-c921-4675-8c77-1cb8c68b90e6",
   "metadata": {},
   "outputs": [
    {
     "data": {
      "text/plain": [
       "Value( x = 6; df/d[x] = 403.428793492735; children = ['m', 'n'] )"
      ]
     },
     "execution_count": 11,
     "metadata": {},
     "output_type": "execute_result"
    }
   ],
   "source": [
    "x"
   ]
  },
  {
   "cell_type": "code",
   "execution_count": 12,
   "id": "c5596acb-a5af-4c75-83e6-4e63d6c4b823",
   "metadata": {},
   "outputs": [],
   "source": [
    "h = x ** math.e"
   ]
  },
  {
   "cell_type": "code",
   "execution_count": 13,
   "id": "9fb412bf-4987-4bbf-872e-aaabd9038f89",
   "metadata": {},
   "outputs": [
    {
     "data": {
      "text/plain": [
       "Value( x**2.718281828459045 = 130.3870332357456; df/d[x**2.718281828459045] = 0; children = [2.718281828459045, 'x'] )"
      ]
     },
     "execution_count": 13,
     "metadata": {},
     "output_type": "execute_result"
    }
   ],
   "source": [
    "h"
   ]
  },
  {
   "cell_type": "code",
   "execution_count": 14,
   "id": "bcc6b9d6-6411-4ab6-9958-153b31cbd706",
   "metadata": {},
   "outputs": [],
   "source": [
    "h.backward()"
   ]
  },
  {
   "cell_type": "code",
   "execution_count": 15,
   "id": "7ed2f392-afb2-42e9-803c-a1ea08d06c8c",
   "metadata": {},
   "outputs": [
    {
     "data": {
      "text/plain": [
       "Value( x**2.718281828459045 = 130.3870332357456; df/d[x**2.718281828459045] = 1; children = [2.718281828459045, 'x'] )"
      ]
     },
     "execution_count": 15,
     "metadata": {},
     "output_type": "execute_result"
    }
   ],
   "source": [
    "h"
   ]
  },
  {
   "cell_type": "code",
   "execution_count": 16,
   "id": "0a14d96e-211e-4b35-bd2e-4ca86c92451c",
   "metadata": {},
   "outputs": [
    {
     "data": {
      "text/plain": [
       "Value( x = 6; df/d[x] = 59.07145051856881; children = ['m', 'n'] )"
      ]
     },
     "execution_count": 16,
     "metadata": {},
     "output_type": "execute_result"
    }
   ],
   "source": [
    "x"
   ]
  },
  {
   "cell_type": "code",
   "execution_count": null,
   "id": "cef66014-77e7-469b-9378-781b63abb694",
   "metadata": {},
   "outputs": [],
   "source": []
  },
  {
   "cell_type": "code",
   "execution_count": null,
   "id": "91b00ca5-eba7-444d-b378-20a98b424669",
   "metadata": {},
   "outputs": [],
   "source": []
  },
  {
   "cell_type": "markdown",
   "id": "8ee17da9-3854-4149-a476-784cf0ce5b46",
   "metadata": {
    "id": "8ee17da9-3854-4149-a476-784cf0ce5b46",
    "jp-MarkdownHeadingCollapsed": true
   },
   "source": [
    "## **Manual backpropagation**"
   ]
  },
  {
   "cell_type": "code",
   "execution_count": 17,
   "id": "e6164a4d-d181-47e8-8a60-238ad96c3881",
   "metadata": {
    "id": "e6164a4d-d181-47e8-8a60-238ad96c3881",
    "outputId": "2a0e5c39-86d7-43c3-df03-bcbd8186261c"
   },
   "outputs": [
    {
     "name": "stdout",
     "output_type": "stream",
     "text": [
      "Value( L = -8; df/d[L] = 0; children = ['d', 'f'] )\n"
     ]
    }
   ],
   "source": [
    "a = Value(2, 'a')\n",
    "b = Value(-3, 'b')\n",
    "e = a * b; e._label = 'e'\n",
    "c = Value(10, 'c')\n",
    "d = e + c; d._label = 'd'\n",
    "f = Value(-2, 'f')\n",
    "L = d * f; L._label = 'L'\n",
    "\n",
    "print(L)"
   ]
  },
  {
   "cell_type": "code",
   "execution_count": 18,
   "id": "cb5adbc4-8244-42af-b0e6-f7a3d7c2101e",
   "metadata": {
    "id": "cb5adbc4-8244-42af-b0e6-f7a3d7c2101e"
   },
   "outputs": [],
   "source": [
    "L._grad = 1"
   ]
  },
  {
   "cell_type": "code",
   "execution_count": 19,
   "id": "bf060662-0e95-405d-8674-47a0735011e6",
   "metadata": {
    "id": "bf060662-0e95-405d-8674-47a0735011e6",
    "outputId": "b6b5b8ee-bdde-4a94-835a-34df0d57a44f"
   },
   "outputs": [
    {
     "data": {
      "text/plain": [
       "Value( L = -8; df/d[L] = 1; children = ['d', 'f'] )"
      ]
     },
     "execution_count": 19,
     "metadata": {},
     "output_type": "execute_result"
    }
   ],
   "source": [
    "L"
   ]
  },
  {
   "cell_type": "code",
   "execution_count": 20,
   "id": "d7263b01-eb63-4999-b5b3-1781281556e2",
   "metadata": {
    "id": "d7263b01-eb63-4999-b5b3-1781281556e2",
    "outputId": "36a41b90-da04-4fac-a8fa-43bf6717c13a"
   },
   "outputs": [
    {
     "data": {
      "text/plain": [
       "Value( f = -2; df/d[f] = 0; children = [] )"
      ]
     },
     "execution_count": 20,
     "metadata": {},
     "output_type": "execute_result"
    }
   ],
   "source": [
    "f"
   ]
  },
  {
   "cell_type": "code",
   "execution_count": 21,
   "id": "1732f4e3-4bdd-460c-9841-a867b9a46e7f",
   "metadata": {
    "id": "1732f4e3-4bdd-460c-9841-a867b9a46e7f",
    "outputId": "dc320348-ea6f-454a-fa5e-85ef8b4bc86c"
   },
   "outputs": [
    {
     "data": {
      "text/plain": [
       "Value( d = 4; df/d[d] = 0; children = ['e', 'c'] )"
      ]
     },
     "execution_count": 21,
     "metadata": {},
     "output_type": "execute_result"
    }
   ],
   "source": [
    "d"
   ]
  },
  {
   "cell_type": "code",
   "execution_count": 22,
   "id": "2ee188ef-b2d1-4a33-be63-0f13cbc6bee5",
   "metadata": {
    "id": "2ee188ef-b2d1-4a33-be63-0f13cbc6bee5",
    "outputId": "98cd12df-5a0e-4901-b0c2-b55508fd16b7"
   },
   "outputs": [],
   "source": [
    "L._backward()"
   ]
  },
  {
   "cell_type": "code",
   "execution_count": 23,
   "id": "44d70278-7daa-44c6-b9dd-48a560029e6a",
   "metadata": {
    "id": "44d70278-7daa-44c6-b9dd-48a560029e6a",
    "outputId": "f4d8f826-4757-4f7b-afee-06354c92dbc5"
   },
   "outputs": [
    {
     "data": {
      "text/plain": [
       "Value( f = -2; df/d[f] = 4; children = [] )"
      ]
     },
     "execution_count": 23,
     "metadata": {},
     "output_type": "execute_result"
    }
   ],
   "source": [
    "f"
   ]
  },
  {
   "cell_type": "code",
   "execution_count": 24,
   "id": "462e9692-b2f6-47fb-83bc-b57b3f4e7e0d",
   "metadata": {
    "id": "462e9692-b2f6-47fb-83bc-b57b3f4e7e0d",
    "outputId": "016d0f3f-1ed6-4113-812d-f8f5434c78c5"
   },
   "outputs": [
    {
     "data": {
      "text/plain": [
       "Value( d = 4; df/d[d] = -2; children = ['e', 'c'] )"
      ]
     },
     "execution_count": 24,
     "metadata": {},
     "output_type": "execute_result"
    }
   ],
   "source": [
    "d"
   ]
  },
  {
   "cell_type": "code",
   "execution_count": 25,
   "id": "7a5f017d-e48c-4e84-913e-c660a458fee6",
   "metadata": {
    "id": "7a5f017d-e48c-4e84-913e-c660a458fee6",
    "outputId": "a149adb9-956b-46fb-b130-286e20a45578"
   },
   "outputs": [
    {
     "data": {
      "text/plain": [
       "Value( e = -6; df/d[e] = 0; children = ['b', 'a'] )"
      ]
     },
     "execution_count": 25,
     "metadata": {},
     "output_type": "execute_result"
    }
   ],
   "source": [
    "e"
   ]
  },
  {
   "cell_type": "code",
   "execution_count": 26,
   "id": "ee6838d3-f379-4ede-b24a-d0afe55a0004",
   "metadata": {
    "id": "ee6838d3-f379-4ede-b24a-d0afe55a0004",
    "outputId": "bb89a427-674e-482f-9a3e-e1e553be21c7"
   },
   "outputs": [
    {
     "data": {
      "text/plain": [
       "Value( c = 10; df/d[c] = 0; children = [] )"
      ]
     },
     "execution_count": 26,
     "metadata": {},
     "output_type": "execute_result"
    }
   ],
   "source": [
    "c"
   ]
  },
  {
   "cell_type": "code",
   "execution_count": 27,
   "id": "71fa5e1d-e6da-48db-94bd-c677e59f4ffa",
   "metadata": {
    "id": "71fa5e1d-e6da-48db-94bd-c677e59f4ffa",
    "outputId": "525f268c-1d3b-4f75-bdd6-573aca323ab5"
   },
   "outputs": [],
   "source": [
    "d._backward()"
   ]
  },
  {
   "cell_type": "code",
   "execution_count": 28,
   "id": "a7171cf3-4303-44a4-9bde-358be47d5b77",
   "metadata": {
    "id": "a7171cf3-4303-44a4-9bde-358be47d5b77",
    "outputId": "040fbc1e-118a-4116-ad4a-4f05020b34b4"
   },
   "outputs": [
    {
     "data": {
      "text/plain": [
       "Value( a = 2; df/d[a] = 0; children = [] )"
      ]
     },
     "execution_count": 28,
     "metadata": {},
     "output_type": "execute_result"
    }
   ],
   "source": [
    "a"
   ]
  },
  {
   "cell_type": "code",
   "execution_count": 29,
   "id": "c146bf82-f7f6-4f93-afe9-57f18969301e",
   "metadata": {
    "id": "c146bf82-f7f6-4f93-afe9-57f18969301e",
    "outputId": "47cdad53-12b2-40f4-c664-13af534345e4"
   },
   "outputs": [
    {
     "data": {
      "text/plain": [
       "Value( b = -3; df/d[b] = 0; children = [] )"
      ]
     },
     "execution_count": 29,
     "metadata": {},
     "output_type": "execute_result"
    }
   ],
   "source": [
    "b"
   ]
  },
  {
   "cell_type": "code",
   "execution_count": 30,
   "id": "de1f304f-cbc6-49f7-8bfb-ad17287dac8b",
   "metadata": {
    "id": "de1f304f-cbc6-49f7-8bfb-ad17287dac8b",
    "outputId": "5c64d076-5902-406d-ddb6-052071b2bf4b"
   },
   "outputs": [],
   "source": [
    "e._backward()"
   ]
  },
  {
   "cell_type": "markdown",
   "id": "18b57464-0ff9-42e3-b079-ea178b8bd2d3",
   "metadata": {
    "id": "18b57464-0ff9-42e3-b079-ea178b8bd2d3"
   },
   "source": [
    "## **1. Auto backpropagation**"
   ]
  },
  {
   "attachments": {
    "54ad7f29-f866-40bb-a610-bfb70db7d187.png": {
     "image/png": "[encoded data removed]"
    }
   },
   "cell_type": "markdown",
   "id": "578800de-6466-4dbc-a814-b5ec4ed25a91",
   "metadata": {},
   "source": [
    "![image.png](attachment:54ad7f29-f866-40bb-a610-bfb70db7d187.png)"
   ]
  },
  {
   "cell_type": "code",
   "execution_count": 31,
   "id": "d7ba5937-0267-4ebd-ac7f-abdd8163eecd",
   "metadata": {
    "id": "d7ba5937-0267-4ebd-ac7f-abdd8163eecd",
    "outputId": "85013369-78c9-472b-fca2-581dddbf5185"
   },
   "outputs": [
    {
     "name": "stdout",
     "output_type": "stream",
     "text": [
      "Value( L = -8; df/d[L] = 1; children = ['d', 'f'] )\n"
     ]
    }
   ],
   "source": [
    "a = Value(2, 'a')\n",
    "b = Value(-3, 'b')\n",
    "e = a * b; e._label = 'e'\n",
    "c = Value(10, 'c')\n",
    "d = e + c; d._label = 'd'\n",
    "f = Value(-2, 'f')\n",
    "L = d * f; L._label = 'L'\n",
    "\n",
    "L.backward()\n",
    "print(L)"
   ]
  },
  {
   "cell_type": "code",
   "execution_count": 32,
   "id": "a3b3e9ad-9bf3-4cfd-9efe-aafed759b777",
   "metadata": {
    "id": "a3b3e9ad-9bf3-4cfd-9efe-aafed759b777",
    "outputId": "760c508b-aa39-49a3-f1b1-39079b07e1a5"
   },
   "outputs": [
    {
     "name": "stdout",
     "output_type": "stream",
     "text": [
      "Value( L = -8; df/d[L] = 1; children = ['d', 'f'] )\n",
      "Value( f = -2; df/d[f] = 4; children = [] )\n",
      "Value( d = 4; df/d[d] = -2; children = ['e', 'c'] )\n",
      "Value( c = 10; df/d[c] = -2; children = [] )\n",
      "Value( e = -6; df/d[e] = -2; children = ['a', 'b'] )\n",
      "Value( b = -3; df/d[b] = -4; children = [] )\n",
      "Value( a = 2; df/d[a] = 6; children = [] )\n"
     ]
    }
   ],
   "source": [
    "nodes = topological_sort(L)\n",
    "for node in nodes:\n",
    "    print(node)"
   ]
  },
  {
   "cell_type": "code",
   "execution_count": 33,
   "id": "e6e93564-97cf-45d4-a3b0-c37f83b8df3b",
   "metadata": {},
   "outputs": [
    {
     "name": "stdout",
     "output_type": "stream",
     "text": [
      "Value( f = 4; df/d[f] = 1; children = ['x'] )\n",
      "Value( x = -2; df/d[x] = -4; children = [] )\n"
     ]
    }
   ],
   "source": [
    "x = Value(-2, 'x')\n",
    "f = x*x; f._label = 'f'\n",
    "\n",
    "f.backward()\n",
    "\n",
    "nodes = topological_sort(f)\n",
    "for node in nodes:\n",
    "    print(node)"
   ]
  },
  {
   "cell_type": "markdown",
   "id": "91a0cdae-cb7e-4d18-b2b1-395d0a5a3f9a",
   "metadata": {
    "id": "91a0cdae-cb7e-4d18-b2b1-395d0a5a3f9a",
    "jp-MarkdownHeadingCollapsed": true
   },
   "source": [
    "## **2. Activation functions testing**"
   ]
  },
  {
   "cell_type": "code",
   "execution_count": 34,
   "id": "9163ddce-f066-47ec-bf8b-4635874dde05",
   "metadata": {
    "id": "9163ddce-f066-47ec-bf8b-4635874dde05",
    "outputId": "66367082-edaa-4c39-8ccf-19d47e304803"
   },
   "outputs": [
    {
     "name": "stdout",
     "output_type": "stream",
     "text": [
      "Value( σ(x) = 0.9933071490757153; df/d[σ(x)] = 0; children = ['x'] )\n",
      "Value( x = 5; df/d[x] = 0.006648056670790033; children = [] )\n"
     ]
    }
   ],
   "source": [
    "# Sigmoid test\n",
    "x = Value(5, 'x')\n",
    "sigmoid__ = x.sigmoid()\n",
    "print(sigmoid__)\n",
    "sigmoid__.backward()\n",
    "print(x)"
   ]
  },
  {
   "cell_type": "code",
   "execution_count": 35,
   "id": "5a89ccd8-bd21-4f7a-819f-0c8ac34527de",
   "metadata": {
    "id": "5a89ccd8-bd21-4f7a-819f-0c8ac34527de",
    "outputId": "a6103afe-f494-45e3-c0f7-479569d20ba8"
   },
   "outputs": [
    {
     "name": "stdout",
     "output_type": "stream",
     "text": [
      "Value( softplus(x) = 5.006715348489118; df/d[softplus(x)] = 0; children = ['x'] )\n",
      "Value( x = 5; df/d[x] = 0.9933071490757153; children = [] )\n"
     ]
    }
   ],
   "source": [
    "# Softplus test\n",
    "x = Value(5, 'x')\n",
    "softplus__ = x.softplus()\n",
    "print(softplus__)\n",
    "softplus__.backward()\n",
    "print(x)"
   ]
  },
  {
   "cell_type": "code",
   "execution_count": 36,
   "id": "4e3bd972-790b-455f-8650-93590547f1b1",
   "metadata": {
    "id": "4e3bd972-790b-455f-8650-93590547f1b1",
    "outputId": "437fb90b-0324-45b5-8b3e-f12ccd06404f"
   },
   "outputs": [
    {
     "name": "stdout",
     "output_type": "stream",
     "text": [
      "Value( swish(x) = 4.966535745378576; df/d[swish(x)] = 0; children = ['x'] )\n",
      "Value( x = 5; df/d[x] = 1.0265474324296653; children = [] )\n"
     ]
    }
   ],
   "source": [
    "# Swish test\n",
    "x = Value(5, 'x')\n",
    "swish__ = x.swish()\n",
    "print(swish__)\n",
    "swish__.backward()\n",
    "print(x)"
   ]
  },
  {
   "cell_type": "code",
   "execution_count": 37,
   "id": "3c4b23e4-400d-49ed-aa22-12362008a996",
   "metadata": {
    "id": "3c4b23e4-400d-49ed-aa22-12362008a996",
    "outputId": "96583fdd-c46f-479d-da2e-798199a9d4e3"
   },
   "outputs": [
    {
     "name": "stdout",
     "output_type": "stream",
     "text": [
      "Value( x * σ(x) = 4.966535745378576; df/d[x * σ(x)] = 0; children = ['σ(x)', 'x'] )\n",
      "Value( x = 5; df/d[x] = 1.0265474324296655; children = [] )\n"
     ]
    }
   ],
   "source": [
    "# Manual swish test\n",
    "x = Value(5, 'x')\n",
    "swish_manual = x * x.sigmoid()\n",
    "print(swish_manual)\n",
    "swish_manual.backward()\n",
    "print(x)"
   ]
  },
  {
   "cell_type": "markdown",
   "id": "XgGU1DOMG7O3",
   "metadata": {
    "id": "XgGU1DOMG7O3",
    "jp-MarkdownHeadingCollapsed": true
   },
   "source": [
    "## **Forward propagation test**"
   ]
  },
  {
   "cell_type": "code",
   "execution_count": 38,
   "id": "c435c52a-7f16-4246-8518-bedc7405b5a8",
   "metadata": {},
   "outputs": [
    {
     "name": "stdout",
     "output_type": "stream",
     "text": [
      "\n",
      "Value( f = 4; df/d[f] = 1; children = ['x'] )\n",
      "Value( x = -2; df/d[x] = -4; children = [] )\n",
      "\n",
      "Value( f = 1.0; df/d[f] = 1; children = ['x'] )\n",
      "Value( x = -1.0; df/d[x] = -2.0; children = [] )\n"
     ]
    }
   ],
   "source": [
    "x = Value(-2, 'x')\n",
    "f = x*x; f._label = 'f'\n",
    "\n",
    "f.backward()\n",
    "ordered_nodes = topological_sort(f)\n",
    "\n",
    "# Old values\n",
    "print()\n",
    "for node in ordered_nodes:\n",
    "    print(node)\n",
    "\n",
    "# Little gradient descent\n",
    "for node in ordered_nodes:\n",
    "    try:\n",
    "        label = int(node._label)\n",
    "    except ValueError:\n",
    "        node._value += -(1/4) * node._grad  # f(x)\n",
    "\n",
    "# Updating values\n",
    "f.forward()\n",
    "f.backward()\n",
    "\n",
    "# New values\n",
    "print()\n",
    "for node in ordered_nodes:\n",
    "    print(node)"
   ]
  },
  {
   "cell_type": "code",
   "execution_count": 39,
   "id": "db58f0b6-a823-4d16-9275-dbb6948f680c",
   "metadata": {
    "colab": {
     "base_uri": "https://localhost:8080/"
    },
    "id": "db58f0b6-a823-4d16-9275-dbb6948f680c",
    "outputId": "61aa6f23-e9c4-41ea-e93b-d3b812bd7836"
   },
   "outputs": [
    {
     "name": "stdout",
     "output_type": "stream",
     "text": [
      "\n",
      "Value( f = 4; df/d[f] = 1; children = [2, 'x'] )\n",
      "Value( x = -2; df/d[x] = -4; children = [] )\n",
      "Value( 2 = 2; df/d[2] = 0; children = [] )\n",
      "\n",
      "Value( f = 1.0; df/d[f] = 1; children = [2, 'x'] )\n",
      "Value( x = -1.0; df/d[x] = -2.0; children = [] )\n",
      "Value( 2 = 2; df/d[2] = 0; children = [] )\n"
     ]
    }
   ],
   "source": [
    "x = Value(-2, 'x')\n",
    "f = x**2; f._label = 'f'\n",
    "\n",
    "f.backward()\n",
    "ordered_nodes = topological_sort(f)\n",
    "\n",
    "# Old values\n",
    "print()\n",
    "for node in ordered_nodes:\n",
    "    print(node)\n",
    "\n",
    "# Little gradient descent\n",
    "for node in ordered_nodes:\n",
    "    try:\n",
    "        label = int(node._label)\n",
    "    except ValueError:\n",
    "        node._value += -(1/4) * node._grad  # f(x)\n",
    "\n",
    "# Updating values\n",
    "f.forward()\n",
    "f.backward()\n",
    "\n",
    "# New values\n",
    "print()\n",
    "for node in ordered_nodes:\n",
    "    print(node)"
   ]
  },
  {
   "cell_type": "markdown",
   "id": "d9664620-7bf3-4210-b5d1-5e9e6090fd1a",
   "metadata": {
    "id": "d9664620-7bf3-4210-b5d1-5e9e6090fd1a"
   },
   "source": [
    "## **3. Gradient descent algorithms**"
   ]
  },
  {
   "cell_type": "markdown",
   "id": "f5bd838b-3395-4e86-b34f-b2603890b1cd",
   "metadata": {},
   "source": [
    "### **Default gradient descent algorithm**"
   ]
  },
  {
   "cell_type": "code",
   "execution_count": 40,
   "id": "0b8fbf70-00f2-490a-94b8-94a9587fa6b6",
   "metadata": {},
   "outputs": [],
   "source": [
    "def gradient_descent(function: Value, learning_rate=0.001, iter=100):\n",
    "    \"\"\"\n",
    "    Gradient descent algorithm (default, with constant learning rate)\n",
    "    \"\"\"\n",
    "    ordered_nodes = topological_sort(function)\n",
    "    function.backward()\n",
    "\n",
    "    for i in range(iter):\n",
    "        for node in ordered_nodes:\n",
    "            try:\n",
    "                int(node._label)\n",
    "            except ValueError:\n",
    "                if not node._children:\n",
    "                    node._value += -learning_rate * node._grad\n",
    "        \n",
    "        function.forward()\n",
    "        function.backward()"
   ]
  },
  {
   "cell_type": "markdown",
   "id": "db47daea-90a9-44a8-92a7-cd6b2c10eb99",
   "metadata": {},
   "source": [
    "### **Adam optimizer**"
   ]
  },
  {
   "attachments": {
    "4ca929cd-e911-4379-9ef8-5d1d1e59aef1.png": {
     "image/png": "[encoded data removed]"
    }
   },
   "cell_type": "markdown",
   "id": "9eae25c8-2594-4da0-b5ea-0e2f8830fe75",
   "metadata": {},
   "source": [
    "![image.png](attachment:4ca929cd-e911-4379-9ef8-5d1d1e59aef1.png)"
   ]
  },
  {
   "cell_type": "code",
   "execution_count": 41,
   "id": "4c3560b7-77a8-48fb-85bd-affeb7a2469b",
   "metadata": {},
   "outputs": [],
   "source": [
    "def adam_grad(function, learning_rate=0.001, b1=0.9, b2=0.999, eps=1e-8, iter=100):\n",
    "    \"\"\"\n",
    "    Adaptive moment estimation algorithm (Adam)\n",
    "    \"\"\"\n",
    "    params = topological_sort(function)\n",
    "    n_params = len(params)\n",
    "    leaves = [params[i] for i in range(n_params) if not params[i]._children]\n",
    "    n_leaves = len(leaves)\n",
    "    \n",
    "    m = [0] * n_leaves\n",
    "    v = [0] * n_leaves\n",
    "    m_hat = [0] * n_leaves\n",
    "    v_hat = [0] * n_leaves\n",
    "    \n",
    "    function.backward()\n",
    "\n",
    "    for t in range(1, iter+1):\n",
    "        function.backward()\n",
    "\n",
    "        for i in range(n_leaves):\n",
    "            m[i] = b1*m[i] + (1-b1)*leaves[i]._grad\n",
    "            v[i] = b2*v[i] + (1-b2)*(leaves[i]._grad ** 2)\n",
    "            m_hat[i] = m[i] / (1-b1**t)\n",
    "            v_hat[i] = v[i] / (1-b2**t)\n",
    "            \n",
    "            try:\n",
    "                label = int(leaves[i]._label)\n",
    "            except ValueError:\n",
    "                leaves[i]._value += -(learning_rate * m_hat[i]) / (v_hat[i]**0.5 + eps)\n",
    "        \n",
    "        function.forward()\n",
    "        function.backward()"
   ]
  },
  {
   "cell_type": "markdown",
   "id": "f50d82eb-1987-44ac-aa6f-052b640ac963",
   "metadata": {},
   "source": [
    "## **Algorithms testing**"
   ]
  },
  {
   "cell_type": "markdown",
   "id": "457f216d-27a1-4fd1-a642-9a2e282b9726",
   "metadata": {},
   "source": [
    "---\n",
    "### **Test 1**"
   ]
  },
  {
   "cell_type": "markdown",
   "id": "ee58a13d-faf4-4f82-a893-7cac7439ca69",
   "metadata": {},
   "source": [
    "#### Default GD"
   ]
  },
  {
   "cell_type": "code",
   "execution_count": 42,
   "id": "f28393da-5503-4ddc-bc3d-c320700099e1",
   "metadata": {
    "scrolled": true
   },
   "outputs": [
    {
     "name": "stdout",
     "output_type": "stream",
     "text": [
      "f = 717\n",
      "f_min = 0.07035178642288623\n",
      "\n",
      "Value( x1 = 0.2652391117895063; df/d[x1] = 0.5304782235790126; children = [] )\n",
      "Value( x2 = 2.700939205452231e-18; df/d[x2] = 9.183193298537585e-17; children = [] )\n",
      "Value( x3 = 2.061510082928032e-52; df/d[x3] = 1.4430570580496225e-50; children = [] )\n"
     ]
    }
   ],
   "source": [
    "x1 = Value(2, label='x1')\n",
    "x2 = Value(3, label='x2')\n",
    "x3 = Value(4, label='x3')\n",
    "f = x1**2 + 17*x2**2 + 35*x3**2; f._label='f'\n",
    "print(f'f = {f._value}')\n",
    "\n",
    "gradient_descent(f, learning_rate=0.01, iter=100)\n",
    "print(f'f_min = {f._value}\\n')\n",
    "print(x1)\n",
    "print(x2)\n",
    "print(x3)"
   ]
  },
  {
   "cell_type": "markdown",
   "id": "f66e9c5d-e1b4-4212-83ef-59cd82f274e4",
   "metadata": {},
   "source": [
    "#### Adam"
   ]
  },
  {
   "cell_type": "code",
   "execution_count": 43,
   "id": "0d167262-db99-4951-a091-148c5d1e5c3d",
   "metadata": {
    "scrolled": true
   },
   "outputs": [
    {
     "name": "stdout",
     "output_type": "stream",
     "text": [
      "f = 717\n",
      "f_min = 1.4807325242736403e-05\n",
      "\n",
      "Value( x1 = 5.1669898226128956e-05; df/d[x1] = 0.00010333979645225791; children = [] )\n",
      "Value( x2 = -0.00034309171257999535; df/d[x2] = -0.011665118227719842; children = [] )\n",
      "Value( x3 = 0.0006048270772768845; df/d[x3] = 0.04233789540938192; children = [] )\n"
     ]
    }
   ],
   "source": [
    "x1 = Value(2, label='x1')\n",
    "x2 = Value(3, label='x2')\n",
    "x3 = Value(4, label='x3')\n",
    "f = x1**2 + 17*x2**2 + 35*x3**2; f._label='f'\n",
    "print(f'f = {f._value}')\n",
    "\n",
    "adam_grad(f, learning_rate=0.1, b1=0.8, b2=0.9, iter=100)\n",
    "print(f'f_min = {f._value}\\n')\n",
    "print(x1)\n",
    "print(x2)\n",
    "print(x3)"
   ]
  },
  {
   "cell_type": "markdown",
   "id": "f6c48c08-28d2-459b-80fd-0208e4a7fbc6",
   "metadata": {},
   "source": [
    "---\n",
    "### **Test 2**"
   ]
  },
  {
   "cell_type": "markdown",
   "id": "00e6416f-a4fa-46e5-8a09-edc5edfd81be",
   "metadata": {},
   "source": [
    "#### Default GD"
   ]
  },
  {
   "cell_type": "code",
   "execution_count": 44,
   "id": "66bdc0e2-079a-45db-aeb8-8541168c40f2",
   "metadata": {
    "scrolled": true
   },
   "outputs": [
    {
     "name": "stdout",
     "output_type": "stream",
     "text": [
      "f = 2.25\n",
      "f_min = 0.03957287986287359\n",
      "\n"
     ]
    }
   ],
   "source": [
    "x = Value(-0.5, 'x')\n",
    "f = (x-1)**2; f._label = 'f'; f._label='f'\n",
    "print(f'f = {f._value}')\n",
    "\n",
    "gradient_descent(f, learning_rate=0.01, iter=100)\n",
    "print(f'f_min = {f._value}\\n')"
   ]
  },
  {
   "cell_type": "code",
   "execution_count": 45,
   "id": "5bbc278b-0873-45e9-bb9b-4d7385673df2",
   "metadata": {},
   "outputs": [
    {
     "data": {
      "text/plain": [
       "0.03957287986287359"
      ]
     },
     "execution_count": 45,
     "metadata": {},
     "output_type": "execute_result"
    }
   ],
   "source": [
    "f._value"
   ]
  },
  {
   "cell_type": "markdown",
   "id": "895f6247-d965-4173-b89b-e8f8f36c849d",
   "metadata": {},
   "source": [
    "#### Adam"
   ]
  },
  {
   "cell_type": "code",
   "execution_count": 46,
   "id": "c7ab836f-220f-4786-9239-c5db1c534f16",
   "metadata": {},
   "outputs": [
    {
     "name": "stdout",
     "output_type": "stream",
     "text": [
      "f = 2.25\n",
      "f_min = 2.495164720983636e-09\n",
      "\n"
     ]
    }
   ],
   "source": [
    "x = Value(-0.5, 'x')\n",
    "f = (x-1)**2; f._label = 'f'; f._label='f'\n",
    "print(f'f = {f._value}')\n",
    "\n",
    "adam_grad(f, learning_rate=0.1, b1=0.8, b2=0.9, iter=100)\n",
    "print(f'f_min = {f._value}\\n')"
   ]
  },
  {
   "cell_type": "markdown",
   "id": "95daf94a-6a9d-42c5-b583-901ef8b0a10d",
   "metadata": {},
   "source": [
    "---\n",
    "### **Test 3**"
   ]
  },
  {
   "cell_type": "markdown",
   "id": "71049f38-fef8-4af4-9c61-663e620aa085",
   "metadata": {},
   "source": [
    "#### Default GD"
   ]
  },
  {
   "cell_type": "code",
   "execution_count": 47,
   "id": "0c1ef1ea-4294-414b-8a85-618c88d0d328",
   "metadata": {},
   "outputs": [
    {
     "name": "stdout",
     "output_type": "stream",
     "text": [
      "f = 26\n",
      "f_min = 0.017587946605721556\n",
      "\n",
      "Value( x1 = 0.13261955589475316; df/d[x1] = 0.2652391117895063; children = [] )\n",
      "Value( x2 = 7.888609052210118e-31; df/d[x2] = 3.944304526105059e-29; children = [] )\n"
     ]
    }
   ],
   "source": [
    "x1 = Value(1, label='x1')\n",
    "x2 = Value(1, label='x2')\n",
    "f = x1**2 + 25*x2**2; f._label='f'\n",
    "print(f'f = {f._value}')\n",
    "\n",
    "gradient_descent(f, learning_rate=0.01, iter=100)\n",
    "print(f'f_min = {f._value}\\n')\n",
    "print(x1)\n",
    "print(x2)"
   ]
  },
  {
   "cell_type": "markdown",
   "id": "44fbed38-34d1-405e-a1af-9e133cea7151",
   "metadata": {},
   "source": [
    "#### Adam"
   ]
  },
  {
   "cell_type": "code",
   "execution_count": 48,
   "id": "8420e141-b208-48b2-9646-5fc5da2b89c9",
   "metadata": {},
   "outputs": [
    {
     "name": "stdout",
     "output_type": "stream",
     "text": [
      "f = 26\n",
      "f_min = 6.400290133561407e-08\n",
      "\n",
      "Value( x1 = -4.960199807398612e-05; df/d[x1] = -9.920399614797223e-05; children = [] )\n",
      "Value( x2 = -4.961553914760268e-05; df/d[x2] = -0.002480776957380134; children = [] )\n"
     ]
    }
   ],
   "source": [
    "x1 = Value(1, label='x1')\n",
    "x2 = Value(1, label='x2')\n",
    "f = x1**2 + 25*x2**2; f._label='f'\n",
    "print(f'f = {f._value}')\n",
    "\n",
    "adam_grad(f, learning_rate=0.01, b1=0.7, b2=0.67, iter=100)\n",
    "print(f'f_min = {f._value}\\n')\n",
    "print(x1)\n",
    "print(x2)"
   ]
  },
  {
   "cell_type": "markdown",
   "id": "e1daee52-c3b6-416f-8645-7adc9d20b2f2",
   "metadata": {},
   "source": [
    "---\n",
    "### **Test 4**"
   ]
  },
  {
   "cell_type": "markdown",
   "id": "2a5d4094-2934-4eb0-9411-702099d13be5",
   "metadata": {},
   "source": [
    "#### Default GD"
   ]
  },
  {
   "cell_type": "code",
   "execution_count": 49,
   "id": "6cbaa738-1069-4cab-be3c-d433008ac56a",
   "metadata": {},
   "outputs": [
    {
     "name": "stdout",
     "output_type": "stream",
     "text": [
      "f = 36\n",
      "f_min = 5.75\n",
      "\n",
      "Value( x = -0.49999999887963026; df/d[x] = 2.2407395938728314e-09; children = [] )\n"
     ]
    }
   ],
   "source": [
    "x = Value(5, label='x')\n",
    "f = 4 + (x-1)*(x+2) + 4; f._label='f'\n",
    "print(f'f = {f._value}')\n",
    "\n",
    "gradient_descent(f, learning_rate=0.1, iter=100)\n",
    "print(f'f_min = {f._value}\\n')\n",
    "print(x)"
   ]
  },
  {
   "cell_type": "markdown",
   "id": "c8578106-fffd-4165-9788-6fcf30d429d7",
   "metadata": {},
   "source": [
    "#### Adam"
   ]
  },
  {
   "cell_type": "code",
   "execution_count": 50,
   "id": "2faa17c6-8b5d-4923-847e-0bb206cfe272",
   "metadata": {
    "scrolled": true
   },
   "outputs": [
    {
     "name": "stdout",
     "output_type": "stream",
     "text": [
      "f = 36\n",
      "f_min = 5.7501615904048\n",
      "\n",
      "Value( x = -0.4872881785412182; df/d[x] = 0.025423642917563605; children = [] )\n"
     ]
    }
   ],
   "source": [
    "x = Value(5, label='x')\n",
    "f = 4 + (x-1)*(x+2) + 4; f._label='f'\n",
    "print(f'f = {f._value}')\n",
    "\n",
    "adam_grad(f, learning_rate=0.1, b1=0.9, b2=0.999, iter=100)\n",
    "print(f'f_min = {f._value}\\n')\n",
    "print(x)"
   ]
  },
  {
   "cell_type": "markdown",
   "id": "e319dbf7-268d-48e4-882f-ec39cd9568c5",
   "metadata": {},
   "source": [
    "---\n",
    "### **Test 5**"
   ]
  },
  {
   "cell_type": "markdown",
   "id": "b2cc4647-4248-4100-9cd2-a560851b25ce",
   "metadata": {},
   "source": [
    "#### Default GD"
   ]
  },
  {
   "cell_type": "code",
   "execution_count": 51,
   "id": "3a134efa-d2a4-4e38-8102-aecec5c56d3f",
   "metadata": {},
   "outputs": [
    {
     "name": "stdout",
     "output_type": "stream",
     "text": [
      "f = 182.67687899999999\n",
      "f_min = 8.002423764469658\n",
      "\n",
      "Value( x = -0.3813211280753164; df/d[x] = -0.012712458299340732; children = [] )\n",
      "Value( y = -0.3813211280753164; df/d[y] = -0.012712458299340732; children = [] )\n",
      "Value( z = 8.72314440134343; df/d[z] = -0.0002778544476787791; children = [] )\n"
     ]
    }
   ],
   "source": [
    "x = Value(5.59, label='x')\n",
    "y = Value(5.59, label='y')\n",
    "z = Value(5.59, label='z')\n",
    "f = 4 + (x*y)**2 / z + 4; f._label='f'\n",
    "print(f'f = {f._value}')\n",
    "\n",
    "gradient_descent(f, learning_rate=0.1, iter=100)\n",
    "print(f'f_min = {f._value}\\n')\n",
    "print(x)\n",
    "print(y)\n",
    "print(z)"
   ]
  },
  {
   "cell_type": "markdown",
   "id": "a94f26fc-320f-48db-ae59-b070a4831fd7",
   "metadata": {},
   "source": [
    "#### Adam"
   ]
  },
  {
   "cell_type": "code",
   "execution_count": 52,
   "id": "59d33ed5-37cb-48a1-be0a-e9b12cf00d9d",
   "metadata": {},
   "outputs": [
    {
     "name": "stdout",
     "output_type": "stream",
     "text": [
      "f = 182.67687899999999\n",
      "f_min = 8.000000082339422\n",
      "\n",
      "Value( x = 0.03013629003553083; df/d[x] = 5.464469802225319e-06; children = [] )\n",
      "Value( y = 0.03013629003553083; df/d[y] = 5.464469802225319e-06; children = [] )\n",
      "Value( z = 10.017314896318714; df/d[z] = -8.219709999871332e-09; children = [] )\n"
     ]
    }
   ],
   "source": [
    "x = Value(5.59, label='x')\n",
    "y = Value(5.59, label='y')\n",
    "z = Value(5.59, label='z')\n",
    "f = 4 + (x*y)**2 / z + 4; f._label='f'\n",
    "print(f'f = {f._value}')\n",
    "\n",
    "adam_grad(f, learning_rate=0.1, b1=0.91, b2=0.9, iter=100)\n",
    "print(f'f_min = {f._value}\\n')\n",
    "print(x)\n",
    "print(y)\n",
    "print(z)"
   ]
  },
  {
   "cell_type": "markdown",
   "id": "e83288e8-1929-4b0f-b814-7ea79758d3a6",
   "metadata": {},
   "source": [
    "## Different tests"
   ]
  },
  {
   "cell_type": "code",
   "execution_count": 53,
   "id": "212ddbcd-46e1-4394-870d-876cf4135a42",
   "metadata": {},
   "outputs": [],
   "source": [
    "m, v, m_hat, v_hat = [[0]*2 for i in range(4)]"
   ]
  },
  {
   "cell_type": "code",
   "execution_count": 54,
   "id": "e6f0c3a7-3cc9-4512-adbe-f8961bfd0634",
   "metadata": {},
   "outputs": [
    {
     "name": "stdout",
     "output_type": "stream",
     "text": [
      "[0, 0]\n",
      "[0, 0]\n",
      "[0, 0]\n",
      "[0, 0]\n"
     ]
    }
   ],
   "source": [
    "for elem in m, v, m_hat, v_hat:\n",
    "    print(elem)"
   ]
  },
  {
   "cell_type": "code",
   "execution_count": 55,
   "id": "095faae2-5366-4d67-8788-7b24d2005e54",
   "metadata": {},
   "outputs": [
    {
     "name": "stdout",
     "output_type": "stream",
     "text": [
      "Value( a = 9; df/d[a] = 0; children = ['c', 'b'] )\n",
      "Value( b = 6; df/d[b] = 0; children = ['c', 2] )\n",
      "Value( c = 3; df/d[c] = 0; children = ['d', 1] )\n",
      "Value( d = 2; df/d[d] = 0; children = [] )\n"
     ]
    }
   ],
   "source": [
    "d = Value(2, 'd')\n",
    "c = d + 1; c._label='c'\n",
    "b = c * 2; b._label='b'\n",
    "a = b + c; a._label='a'\n",
    "\n",
    "parameters = topological_sort(a)\n",
    "\n",
    "for param in parameters:\n",
    "    if not str(param._label).isdigit():\n",
    "        print(param)"
   ]
  },
  {
   "cell_type": "code",
   "execution_count": null,
   "id": "48802efa-a316-48f1-80aa-a8a306614ef6",
   "metadata": {},
   "outputs": [],
   "source": []
  }
 ],
 "metadata": {
  "colab": {
   "provenance": []
  },
  "kernelspec": {
   "display_name": "Python 3 (ipykernel)",
   "language": "python",
   "name": "python3"
  },
  "language_info": {
   "codemirror_mode": {
    "name": "ipython",
    "version": 3
   },
   "file_extension": ".py",
   "mimetype": "text/x-python",
   "name": "python",
   "nbconvert_exporter": "python",
   "pygments_lexer": "ipython3",
   "version": "3.10.5"
  }
 },
 "nbformat": 4,
 "nbformat_minor": 5
}
